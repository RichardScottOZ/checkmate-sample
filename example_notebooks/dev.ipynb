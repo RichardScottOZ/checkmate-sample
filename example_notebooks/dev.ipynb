{
 "cells": [
  {
   "cell_type": "code",
   "execution_count": 1,
   "metadata": {},
   "outputs": [],
   "source": [
    "from CheckmateSample import make_checkerboard"
   ]
  },
  {
   "cell_type": "code",
   "execution_count": 5,
   "metadata": {},
   "outputs": [
    {
     "data": {
      "text/plain": [
       "array([[ 0, -1,  1, -1],\n",
       "       [-1, -1, -1, -1],\n",
       "       [ 1, -1,  0, -1],\n",
       "       [-1, -1, -1, -1]], dtype=int16)"
      ]
     },
     "execution_count": 5,
     "metadata": {},
     "output_type": "execute_result"
    }
   ],
   "source": [
    "make_checkerboard((4,4), (1,1), 1).astype('int16')"
   ]
  },
  {
   "cell_type": "code",
   "execution_count": null,
   "metadata": {},
   "outputs": [],
   "source": [
    "array([[ 0, -1,  1, -1],\n",
    "       [-1, -1, -1, -1],\n",
    "       [ 1, -1,  0, -1],\n",
    "       [-1, -1, -1, -1]], dtype=int16)"
   ]
  },
  {
   "cell_type": "code",
   "execution_count": null,
   "metadata": {},
   "outputs": [],
   "source": [
    "\n",
    "def test_masked_checkerboard_values():\n",
    "    board_size = (4, 4)\n",
    "    square_size = (1, 1)\n",
    "    setparation_size = 1,\n",
    "    checkerboard = make_checkerboard(board_size, square_size, setparation_size)\n",
    "    expected = np.array([\n",
    "        [ 0, -1,  1, -1],\n",
    "        [-1, -1, -1, -1],\n",
    "        [ 1, -1,  0, -1],\n",
    "        [-1, -1, -1, -1]\n",
    "    ], dtype='float32')\n",
    "    np.testing.assert_array_equal(checkerboard, expected)"
   ]
  }
 ],
 "metadata": {
  "kernelspec": {
   "display_name": "checkmate_env",
   "language": "python",
   "name": "python3"
  },
  "language_info": {
   "codemirror_mode": {
    "name": "ipython",
    "version": 3
   },
   "file_extension": ".py",
   "mimetype": "text/x-python",
   "name": "python",
   "nbconvert_exporter": "python",
   "pygments_lexer": "ipython3",
   "version": "3.12.7"
  }
 },
 "nbformat": 4,
 "nbformat_minor": 2
}
